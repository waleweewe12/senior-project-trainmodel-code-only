{
 "cells": [
  {
   "cell_type": "code",
   "execution_count": 1,
   "metadata": {},
   "outputs": [],
   "source": [
    "from PIL import Image, ImageOps\n",
    "import os\n",
    "import numpy as np\n",
    "import random"
   ]
  },
  {
   "cell_type": "code",
   "execution_count": 2,
   "metadata": {},
   "outputs": [],
   "source": [
    "def get_filenames_from_folder(folders, sections):\n",
    "    \"\"\"\n",
    "        args:\n",
    "            folders: A list of folder name.\n",
    "            section: A list of snake section.\n",
    "        return:\n",
    "            files_dict: A dictionary of list of file information\n",
    "    \"\"\"\n",
    "    files_dict = {}\n",
    "    for section, folder in zip(sections, folders):\n",
    "        files_list = []\n",
    "        for filename in os.listdir(folder):\n",
    "            files_list.append({\n",
    "                'file_path':folder + '/',\n",
    "                'file_name':filename.split('.')[0],\n",
    "                'file_type':'.' + filename.split('.')[1]\n",
    "            })\n",
    "        files_dict[section] = files_list\n",
    "    return files_dict"
   ]
  },
  {
   "cell_type": "code",
   "execution_count": 3,
   "metadata": {},
   "outputs": [],
   "source": [
    "def get_number_from_string(string):\n",
    "    num_digits = ['0', '1', '2', '3', '4', '5', '6', '7', '8', '9']\n",
    "    num = ''\n",
    "    count = 0\n",
    "    for s in string:\n",
    "        if s in num_digits:\n",
    "            count = 1\n",
    "            num = num + s\n",
    "        else:\n",
    "            if count == 1:\n",
    "                return int(num)\n",
    "    return int(num)"
   ]
  },
  {
   "cell_type": "code",
   "execution_count": 4,
   "metadata": {},
   "outputs": [],
   "source": [
    "def split_test_data(min_section, section_1, section_2, number_split):\n",
    "    random.shuffle(min_section)\n",
    "    min_section_test = []\n",
    "    section_1_test = []\n",
    "    section_2_test = []\n",
    "    for min_sec in min_section:\n",
    "        if len(min_section_test) >= (number_split):\n",
    "            break\n",
    "        for sec_1 in section_1:\n",
    "            for sec_2 in section_2:\n",
    "                if get_number_from_string(min_sec['file_name']) == get_number_from_string(sec_1['file_name']) and get_number_from_string(min_sec['file_name']) == get_number_from_string(sec_2['file_name']):\n",
    "                    if min_sec not in min_section_test and sec_1 not in section_1_test and sec_2 not in section_2_test:\n",
    "                        min_section_test.append(min_sec)\n",
    "                        section_1_test.append(sec_1)\n",
    "                        section_2_test.append(sec_2)\n",
    "    #remove selected_data\n",
    "    for min_sec in min_section_test:\n",
    "        min_section.remove(min_sec)\n",
    "    for sec_1 in section_1_test:\n",
    "        section_1.remove(sec_1)\n",
    "    for sec_2 in section_2_test:\n",
    "        section_2.remove(sec_2)\n",
    "        \n",
    "    return min_section_test.copy(), section_1_test.copy(), section_2_test.copy() "
   ]
  },
  {
   "cell_type": "code",
   "execution_count": 5,
   "metadata": {},
   "outputs": [],
   "source": [
    "def split_validation_data(section, number_split):\n",
    "    random.shuffle(section)\n",
    "    validation_data = []\n",
    "    for sec in section:\n",
    "        if len(validation_data) >= number_split:\n",
    "            break\n",
    "        validation_data.append(sec)\n",
    "    \n",
    "    #remove validation_data from list\n",
    "    for v in validation_data:\n",
    "        section.remove(v)\n",
    "        \n",
    "    return validation_data.copy()"
   ]
  },
  {
   "cell_type": "code",
   "execution_count": 6,
   "metadata": {},
   "outputs": [],
   "source": [
    "def load_image_to_folders(files_1, files_2, files_3, folder_1, folder_2, folder_3):\n",
    "    for files, folder in zip([files_1, files_2, files_3], [folder_1, folder_2, folder_3]):\n",
    "        for file in files:\n",
    "            img = Image.open(file['file_path'] + file['file_name'] + file['file_type'])\n",
    "            if img is not None:\n",
    "                img.save(folder + file['file_name'] + '.jpg')"
   ]
  },
  {
   "cell_type": "code",
   "execution_count": 7,
   "metadata": {},
   "outputs": [],
   "source": [
    "sections = ['Head',\n",
    "          'Mid',\n",
    "          'Tail']\n",
    "for i in range(14):\n",
    "    folders = ['./images/original/class'+ str(i) + '/Head',\n",
    "              './images/original/class'+ str(i) + '/Mid',\n",
    "              './images/original/class'+ str(i) + '/Tail']\n",
    "    files_dict = get_filenames_from_folder(folders, sections)\n",
    "    head = files_dict['Head']\n",
    "    mid = files_dict['Mid']\n",
    "    tail = files_dict['Tail']\n",
    "\n",
    "    if i != 12:\n",
    "        number_split_test = len(tail) * 20 / 100\n",
    "        tail_test, head_test, mid_test = split_test_data(tail, head, mid, number_split_test)\n",
    "        tail_validation = split_validation_data(tail, len(tail) * 20 / 100) \n",
    "        head_validation = split_validation_data(head, len(head) * 20 / 100) \n",
    "        mid_validation  = split_validation_data(mid, len(mid) * 20 / 100) \n",
    "        load_image_to_folders(tail_test, head_test, mid_test, \n",
    "                              './images/Head_Mid_Tail/class' + str(i) + '/test/' + 'tail/',\n",
    "                             './images/Head_Mid_Tail/class' + str(i) + '/test/' + 'head/',\n",
    "                             './images/Head_Mid_Tail/class' + str(i) + '/test/' + 'mid/')\n",
    "        load_image_to_folders(tail_validation, head_validation, mid_validation, \n",
    "                              './images/Head_Mid_Tail/class' + str(i) + '/validation/' + 'tail/',\n",
    "                             './images/Head_Mid_Tail/class' + str(i) + '/validation/' + 'head/',\n",
    "                             './images/Head_Mid_Tail/class' + str(i) + '/validation/' + 'mid/')\n",
    "        load_image_to_folders(tail, head, mid, \n",
    "                              './images/Head_Mid_Tail/class' + str(i) + '/train/' + 'tail/',\n",
    "                             './images/Head_Mid_Tail/class' + str(i) + '/train/' + 'head/',\n",
    "                             './images/Head_Mid_Tail/class' + str(i) + '/train/' + 'mid/')\n",
    "    else:\n",
    "        number_split_test = len(head) * 20 / 100\n",
    "        head_test, tail_test, mid_test = split_test_data(head, tail, mid, number_split_test)\n",
    "        head_validation = split_validation_data(head, len(head) * 20 / 100) \n",
    "        tail_validation = split_validation_data(tail, len(tail) * 20 / 100) \n",
    "        mid_validation  = split_validation_data(mid, len(mid) * 20 / 100) \n",
    "        load_image_to_folders(head_test, tail_test, mid_test, \n",
    "                              './images/Head_Mid_Tail/class' + str(i) + '/test/' + 'head/',\n",
    "                             './images/Head_Mid_Tail/class' + str(i) + '/test/' + 'tail/',\n",
    "                             './images/Head_Mid_Tail/class' + str(i) + '/test/' + 'mid/')\n",
    "        load_image_to_folders(head_validation, tail_validation, mid_validation, \n",
    "                              './images/Head_Mid_Tail/class' + str(i) + '/validation/' + 'head/',\n",
    "                             './images/Head_Mid_Tail/class' + str(i) + '/validation/' + 'tail/',\n",
    "                             './images/Head_Mid_Tail/class' + str(i) + '/validation/' + 'mid/')\n",
    "        load_image_to_folders(head, tail, mid, \n",
    "                              './images/Head_Mid_Tail/class' + str(i) + '/train/' + 'head/',\n",
    "                             './images/Head_Mid_Tail/class' + str(i) + '/train/' + 'tail/',\n",
    "                             './images/Head_Mid_Tail/class' + str(i) + '/train/' + 'mid/')"
   ]
  },
  {
   "cell_type": "code",
   "execution_count": null,
   "metadata": {},
   "outputs": [],
   "source": []
  }
 ],
 "metadata": {
  "kernelspec": {
   "display_name": "Python 3",
   "language": "python",
   "name": "python3"
  },
  "language_info": {
   "codemirror_mode": {
    "name": "ipython",
    "version": 3
   },
   "file_extension": ".py",
   "mimetype": "text/x-python",
   "name": "python",
   "nbconvert_exporter": "python",
   "pygments_lexer": "ipython3",
   "version": "3.7.6"
  }
 },
 "nbformat": 4,
 "nbformat_minor": 4
}
