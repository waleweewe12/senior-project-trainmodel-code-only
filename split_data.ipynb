{
 "cells": [
  {
   "cell_type": "code",
   "execution_count": 1,
   "metadata": {},
   "outputs": [],
   "source": [
    "from PIL import Image, ImageOps\n",
    "import matplotlib.pyplot as plt\n",
    "import os\n",
    "import numpy as np\n",
    "import tensorflow as tf"
   ]
  },
  {
   "cell_type": "code",
   "execution_count": 2,
   "metadata": {},
   "outputs": [],
   "source": [
    "def load_images_from_folder(folders):\n",
    "    class_images = []\n",
    "    for folder in folders:\n",
    "        images = []\n",
    "        for filename in os.listdir(folder):\n",
    "            img = Image.open(os.path.join(folder,filename))\n",
    "            if img is not None:\n",
    "                img = img.resize((299, 299))\n",
    "                img_flip = ImageOps.flip(img)\n",
    "                all_img = [img, img_flip]\n",
    "                for i in all_img:\n",
    "                    for r in [0, 90, 180, 270]:\n",
    "                        images.append(i.rotate(r))\n",
    "        class_images.append(images)\n",
    "    \n",
    "    return class_images.copy()"
   ]
  },
  {
   "cell_type": "code",
   "execution_count": 3,
   "metadata": {},
   "outputs": [],
   "source": [
    "#change file path this.\n",
    "foldersname = ['./images/class0 Cobra/Mid',\n",
    "               './images/class1 KingCobra/Mid',\n",
    "               './images/class2 BandedKrait/Mid',\n",
    "               './images/class3 MalayanKrait/Mid',\n",
    "               './images/class4 RussellViper/Mid',\n",
    "               './images/class5 MalayanPitViper/Mid',\n",
    "               './images/class6 WhiteLippedPitViper/Mid',\n",
    "               './images/class7 Big-eyed pit viper/Mid',\n",
    "               './images/class8 Trimeresurus [Popeia] phuketensis/Mid',\n",
    "               './images/class9 Shore pit viper/Mid',\n",
    "               './images/class10 Boiga nigriceps/Mid',\n",
    "               './images/class11 Gold-ringed cat snake/Mid',\n",
    "               './images/class12 Calliophis maculiceps/Mid',\n",
    "               './images/class13 Bungarus flaviceps/Mid'\n",
    "              ]\n",
    "class_images = load_images_from_folder(foldersname)"
   ]
  },
  {
   "cell_type": "code",
   "execution_count": 4,
   "metadata": {},
   "outputs": [],
   "source": [
    "import random\n",
    "import math\n",
    "\n",
    "for class_num, images in enumerate(class_images):\n",
    "    random.shuffle(images)\n",
    "    for index, img in enumerate(images):\n",
    "        if index < math.ceil(len(images) * 20 / 100):\n",
    "            img.save('./images/Mid/test/class' + str(class_num) + '/' + str(index) + '.jpg')\n",
    "        elif index < math.ceil(len(images) * 40 / 100):\n",
    "            img.save('./images/Mid/validation/class' + str(class_num) + '/' + str(index) + '.jpg')\n",
    "        else:\n",
    "            img.save('./images/Mid/train/class' + str(class_num) + '/' + str(index) + '.jpg')"
   ]
  },
  {
   "cell_type": "code",
   "execution_count": null,
   "metadata": {},
   "outputs": [],
   "source": []
  }
 ],
 "metadata": {
  "kernelspec": {
   "display_name": "Python 3",
   "language": "python",
   "name": "python3"
  },
  "language_info": {
   "codemirror_mode": {
    "name": "ipython",
    "version": 3
   },
   "file_extension": ".py",
   "mimetype": "text/x-python",
   "name": "python",
   "nbconvert_exporter": "python",
   "pygments_lexer": "ipython3",
   "version": "3.7.6"
  }
 },
 "nbformat": 4,
 "nbformat_minor": 4
}
