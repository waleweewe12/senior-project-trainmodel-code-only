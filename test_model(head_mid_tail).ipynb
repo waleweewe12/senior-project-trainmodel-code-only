{
 "cells": [
  {
   "cell_type": "code",
   "execution_count": 1,
   "metadata": {},
   "outputs": [],
   "source": [
    "from PIL import Image, ImageOps\n",
    "import matplotlib.pyplot as plt\n",
    "import os\n",
    "import numpy as np\n",
    "import tensorflow as tf"
   ]
  },
  {
   "cell_type": "code",
   "execution_count": 2,
   "metadata": {},
   "outputs": [],
   "source": [
    "def load_images_from_folder(folders):\n",
    "    class_images = []\n",
    "    for folder in folders:\n",
    "        images = []\n",
    "        for filename in os.listdir(folder):\n",
    "            img = Image.open(os.path.join(folder,filename))\n",
    "            if img is not None:\n",
    "                img = img.resize((299, 299))\n",
    "                img_flip = ImageOps.flip(img)\n",
    "                all_img = [img, img_flip]\n",
    "                for i in all_img:\n",
    "                    for r in [0, 90, 180, 270]:\n",
    "                        images.append(np.array(i.rotate(r)))\n",
    "        class_images.append(images)\n",
    "    \n",
    "    return class_images.copy()"
   ]
  },
  {
   "cell_type": "code",
   "execution_count": 3,
   "metadata": {},
   "outputs": [],
   "source": [
    "def defined_input(class_images):\n",
    "    features = []\n",
    "    for images in class_images:\n",
    "        for img in images:\n",
    "            features.append(img)\n",
    "    features = np.array(features)\n",
    "    features = tf.keras.applications.inception_v3.preprocess_input(features, data_format=None)\n",
    "    return features"
   ]
  },
  {
   "cell_type": "code",
   "execution_count": 4,
   "metadata": {},
   "outputs": [],
   "source": [
    "#เตรียม output\n",
    "def defined_output(class_images):\n",
    "    label = []\n",
    "    for count, images in enumerate(class_images):\n",
    "        for i in range(len(images)):\n",
    "            classes = len(class_images)\n",
    "            output = np.zeros((classes,), dtype=int)\n",
    "            output[count] = 1\n",
    "            label.append(output)\n",
    "    return np.array(label)"
   ]
  },
  {
   "cell_type": "code",
   "execution_count": 5,
   "metadata": {},
   "outputs": [],
   "source": [
    "#load test_data\n",
    "foldersname = []\n",
    "for i in range(14):\n",
    "    foldersname.append('./images/Head_Mid_Tail/class' + str(i) + '/test/head') #change file path this.\n",
    "\n",
    "class_images = load_images_from_folder(foldersname)\n",
    "\n",
    "X_head_test = np.copy(defined_input(class_images))\n",
    "y_head_test = np.copy(defined_output(class_images))"
   ]
  },
  {
   "cell_type": "code",
   "execution_count": 6,
   "metadata": {},
   "outputs": [],
   "source": [
    "#load test_data\n",
    "foldersname = []\n",
    "for i in range(14):\n",
    "    foldersname.append('./images/Head_Mid_Tail/class' + str(i) + '/test/mid') #path_to_folder, change file path this.\n",
    "\n",
    "class_images = load_images_from_folder(foldersname)\n",
    "\n",
    "X_mid_test = np.copy(defined_input(class_images))\n",
    "y_mid_test = np.copy(defined_output(class_images))"
   ]
  },
  {
   "cell_type": "code",
   "execution_count": 7,
   "metadata": {},
   "outputs": [],
   "source": [
    "#load test_data\n",
    "foldersname = []\n",
    "for i in range(14):\n",
    "    foldersname.append('./images/Head_Mid_Tail/class' + str(i) + '/test/tail') #path_to_folder, change file path this.\n",
    "\n",
    "class_images = load_images_from_folder(foldersname)\n",
    "\n",
    "X_tail_test = np.copy(defined_input(class_images))\n",
    "y_tail_test = np.copy(defined_output(class_images))"
   ]
  },
  {
   "cell_type": "code",
   "execution_count": 8,
   "metadata": {},
   "outputs": [],
   "source": [
    "model_head = tf.keras.models.load_model('./model/head_mid_tail/head_v2.h5') #path_to_model, change file path this.\n",
    "model_mid = tf.keras.models.load_model('./model/head_mid_tail/mid_v2.h5') #path_to_model, change file path this.\n",
    "model_tail = tf.keras.models.load_model('./model/head_mid_tail/tail_v2.h5') #path_to_model, change file path this."
   ]
  },
  {
   "cell_type": "code",
   "execution_count": 9,
   "metadata": {},
   "outputs": [],
   "source": [
    "predict_prob_head = model_head.predict(X_head_test)\n",
    "predict_prob_mid = model_head.predict(X_mid_test)\n",
    "predict_prob_tail = model_head.predict(X_tail_test)"
   ]
  },
  {
   "cell_type": "code",
   "execution_count": 10,
   "metadata": {},
   "outputs": [],
   "source": [
    "def get_rank(predict_prob):\n",
    "    top_2_list = []\n",
    "    for pred in predict_prob:\n",
    "        pred_tmp = pred.copy()\n",
    "        first = np.argmax(pred_tmp)\n",
    "        pred_tmp[first] = -1\n",
    "        second = np.argmax(pred_tmp)\n",
    "        top_2_list.append([first, second])\n",
    "    return top_2_list.copy()"
   ]
  },
  {
   "cell_type": "code",
   "execution_count": 11,
   "metadata": {},
   "outputs": [],
   "source": [
    "top_rank_head = get_rank(predict_prob_head)\n",
    "top_rank_mid = get_rank(predict_prob_mid)\n",
    "top_rank_tail = get_rank(predict_prob_tail)"
   ]
  },
  {
   "cell_type": "code",
   "execution_count": 12,
   "metadata": {},
   "outputs": [],
   "source": [
    "\"\"\"f1-score\"\"\"\n",
    "weights =  [[2, 1, 1],\n",
    "          [2, 1, 1],\n",
    "          [1, 2, 1],\n",
    "          [1, 1, 2],\n",
    "          [1, 2, 1],\n",
    "          [2, 2, 1],\n",
    "          [2, 1, 1],\n",
    "          [2, 1, 1],\n",
    "          [1, 2, 1],\n",
    "          [2, 1, 2],\n",
    "          [2, 2, 1],\n",
    "          [1, 1, 2],\n",
    "          [1, 2, 1],\n",
    "          [1, 2, 1]]\n",
    "\"\"\"ผู้เชี่ยวชาญ\"\"\"\n",
    "# weights =  [[2, 1, 1],\n",
    "#           [2, 1, 1],\n",
    "#           [1, 2, 1],\n",
    "#           [1, 2, 1],\n",
    "#           [1, 2, 1],\n",
    "#           [1, 2, 1],\n",
    "#           [1, 2, 1],\n",
    "#           [2, 2, 1],\n",
    "#           [2, 2, 1],\n",
    "#           [1, 2, 1],\n",
    "#           [1, 2, 1],\n",
    "#           [2, 1, 2],\n",
    "#           [2, 2, 1],\n",
    "#           [1, 2, 1]]\n",
    "weights = np.array(weights)"
   ]
  },
  {
   "cell_type": "code",
   "execution_count": 13,
   "metadata": {},
   "outputs": [],
   "source": [
    "scores = []\n",
    "for head, mid, tail, prob_head, prob_mid, prob_tail in zip(top_rank_head, top_rank_mid, top_rank_tail, predict_prob_head, predict_prob_mid, predict_prob_tail):\n",
    "    score_dict = {}\n",
    "    for index, i in enumerate([head[0], mid[0], tail[0]]):\n",
    "        if i not in score_dict:\n",
    "            score_dict[i] = weights[i][index]\n",
    "        else:\n",
    "            score_dict[i] = score_dict[i] + weights[i][index]\n",
    "    for i in [head[1], mid[1], tail[1]]:\n",
    "        if i in score_dict:\n",
    "            score_dict[i] = score_dict[i] + 1\n",
    "    scores.append(score_dict)"
   ]
  },
  {
   "cell_type": "code",
   "execution_count": 14,
   "metadata": {},
   "outputs": [],
   "source": [
    "y_pred = []\n",
    "for score in scores:\n",
    "    max = -1\n",
    "    for key in score:\n",
    "        if score[key] > max:\n",
    "            max = score[key]\n",
    "            pred = key\n",
    "    y_pred.append(pred)\n",
    "    \n",
    "y_true = []\n",
    "for i in y_head_test:\n",
    "    y_true.append(np.argmax(i))"
   ]
  },
  {
   "cell_type": "code",
   "execution_count": 15,
   "metadata": {},
   "outputs": [
    {
     "name": "stdout",
     "output_type": "stream",
     "text": [
      "              precision    recall  f1-score   support\n",
      "\n",
      "      class0       0.61      0.50      0.55        88\n",
      "      class1       0.45      0.81      0.58        48\n",
      "      class2       1.00      0.27      0.43        48\n",
      "      class3       0.85      0.61      0.71        56\n",
      "      class4       0.67      0.25      0.36         8\n",
      "      class5       0.83      0.91      0.87        32\n",
      "      class6       0.00      0.00      0.00        56\n",
      "      class7       0.63      0.97      0.77        80\n",
      "      class8       1.00      0.94      0.97        16\n",
      "      class9       0.76      1.00      0.86        16\n",
      "     class10       0.67      1.00      0.81        56\n",
      "     class11       0.54      1.00      0.70        48\n",
      "     class12       0.91      0.42      0.57        24\n",
      "     class13       1.00      0.69      0.81        48\n",
      "\n",
      "    accuracy                           0.67       624\n",
      "   macro avg       0.71      0.67      0.64       624\n",
      "weighted avg       0.67      0.67      0.62       624\n",
      "\n"
     ]
    },
    {
     "name": "stderr",
     "output_type": "stream",
     "text": [
      "C:\\Users\\acer\\anaconda3\\lib\\site-packages\\sklearn\\metrics\\_classification.py:1272: UndefinedMetricWarning: Precision and F-score are ill-defined and being set to 0.0 in labels with no predicted samples. Use `zero_division` parameter to control this behavior.\n",
      "  _warn_prf(average, modifier, msg_start, len(result))\n"
     ]
    }
   ],
   "source": [
    "from sklearn.metrics import classification_report\n",
    "\n",
    "target_names = []\n",
    "for i in range(14):\n",
    "    target_names.append('class' + str(i))\n",
    "report = classification_report(y_true, y_pred, target_names = target_names)\n",
    "print(report)"
   ]
  },
  {
   "cell_type": "code",
   "execution_count": 16,
   "metadata": {},
   "outputs": [],
   "source": [
    "import pandas as pd \n",
    "\n",
    "#save report to excel\n",
    "report_dict = classification_report(y_true, y_pred, target_names = target_names, output_dict=True)\n",
    "df = pd.DataFrame(report_dict).transpose()\n",
    "df.to_excel(\"body_f1-score.xlsx\")"
   ]
  }
 ],
 "metadata": {
  "kernelspec": {
   "display_name": "Python 3",
   "language": "python",
   "name": "python3"
  },
  "language_info": {
   "codemirror_mode": {
    "name": "ipython",
    "version": 3
   },
   "file_extension": ".py",
   "mimetype": "text/x-python",
   "name": "python",
   "nbconvert_exporter": "python",
   "pygments_lexer": "ipython3",
   "version": "3.7.6"
  }
 },
 "nbformat": 4,
 "nbformat_minor": 4
}
