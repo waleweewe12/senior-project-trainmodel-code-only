{
 "cells": [
  {
   "cell_type": "code",
   "execution_count": 1,
   "metadata": {},
   "outputs": [],
   "source": [
    "from PIL import Image, ImageOps\n",
    "import matplotlib.pyplot as plt\n",
    "import os\n",
    "import numpy as np\n",
    "import tensorflow as tf"
   ]
  },
  {
   "cell_type": "code",
   "execution_count": 2,
   "metadata": {},
   "outputs": [],
   "source": [
    "def load_images_from_folder(folders):\n",
    "    class_images = []\n",
    "    for folder in folders:\n",
    "        images = []\n",
    "        for filename in os.listdir(folder):\n",
    "            img = Image.open(os.path.join(folder,filename))\n",
    "            if img is not None:\n",
    "                img = img.resize((299, 299))\n",
    "                images.append(np.array(img))\n",
    "        class_images.append(images)\n",
    "    \n",
    "    return class_images.copy()"
   ]
  },
  {
   "cell_type": "code",
   "execution_count": 3,
   "metadata": {},
   "outputs": [],
   "source": [
    "def defined_input(class_images):\n",
    "    features = []\n",
    "    for images in class_images:\n",
    "        for img in images:\n",
    "            features.append(img)\n",
    "    features = np.array(features)\n",
    "    features = tf.keras.applications.inception_v3.preprocess_input(features, data_format=None)\n",
    "    return features"
   ]
  },
  {
   "cell_type": "code",
   "execution_count": 4,
   "metadata": {},
   "outputs": [],
   "source": [
    "#เตรียม output\n",
    "def defined_output(class_images):\n",
    "    label = []\n",
    "    for count, images in enumerate(class_images):\n",
    "        for i in range(len(images)):\n",
    "            classes = len(class_images)\n",
    "            output = np.zeros((classes,), dtype=int)\n",
    "            output[count] = 1\n",
    "            label.append(output)\n",
    "    return np.array(label)"
   ]
  },
  {
   "cell_type": "code",
   "execution_count": 5,
   "metadata": {},
   "outputs": [],
   "source": [
    "#load test_data\n",
    "foldersname = []\n",
    "for i in range(14):\n",
    "    foldersname.append('./images/Tail/test/class' + str(i)) #path_to_folder, change file path this.\n",
    "\n",
    "class_images = load_images_from_folder(foldersname)\n",
    "\n",
    "X_test = np.copy(defined_input(class_images))\n",
    "y_test = np.copy(defined_output(class_images))"
   ]
  },
  {
   "cell_type": "code",
   "execution_count": 6,
   "metadata": {},
   "outputs": [],
   "source": [
    "model_body = tf.keras.models.load_model('./model_latest/tail/tail_v1.h5') #path_to_model, change file path this."
   ]
  },
  {
   "cell_type": "code",
   "execution_count": 7,
   "metadata": {},
   "outputs": [],
   "source": [
    "prob = model_body.predict(X_test)"
   ]
  },
  {
   "cell_type": "code",
   "execution_count": 8,
   "metadata": {},
   "outputs": [],
   "source": [
    "#get predicted class\n",
    "y_pred = []\n",
    "for p in prob:\n",
    "    y_pred.append(np.argmax(p))\n",
    "#get actual class\n",
    "y_true = []\n",
    "for y in y_test:\n",
    "    y_true.append(np.argmax(y))"
   ]
  },
  {
   "cell_type": "code",
   "execution_count": 9,
   "metadata": {},
   "outputs": [
    {
     "name": "stdout",
     "output_type": "stream",
     "text": [
      "              precision    recall  f1-score   support\n",
      "\n",
      "      class0       0.72      0.94      0.82        84\n",
      "      class1       0.74      0.51      0.61        45\n",
      "      class2       0.92      0.98      0.95        45\n",
      "      class3       0.91      1.00      0.95        50\n",
      "      class4       0.00      0.00      0.00         8\n",
      "      class5       0.67      0.76      0.71        29\n",
      "      class6       0.93      0.84      0.88        50\n",
      "      class7       0.95      1.00      0.98        80\n",
      "      class8       0.83      0.62      0.71        16\n",
      "      class9       1.00      1.00      1.00        16\n",
      "     class10       0.90      1.00      0.95        56\n",
      "     class11       1.00      0.95      0.98        44\n",
      "     class12       0.93      0.57      0.70        23\n",
      "     class13       0.95      0.85      0.90        48\n",
      "\n",
      "    accuracy                           0.87       594\n",
      "   macro avg       0.82      0.79      0.80       594\n",
      "weighted avg       0.87      0.87      0.86       594\n",
      "\n"
     ]
    },
    {
     "name": "stderr",
     "output_type": "stream",
     "text": [
      "C:\\Users\\acer\\anaconda3\\lib\\site-packages\\sklearn\\metrics\\_classification.py:1272: UndefinedMetricWarning: Precision and F-score are ill-defined and being set to 0.0 in labels with no predicted samples. Use `zero_division` parameter to control this behavior.\n",
      "  _warn_prf(average, modifier, msg_start, len(result))\n"
     ]
    }
   ],
   "source": [
    "from sklearn.metrics import classification_report\n",
    "\n",
    "target_names = []\n",
    "for i in range(14):\n",
    "    target_names.append('class' + str(i))\n",
    "report = classification_report(y_true, y_pred, target_names = target_names)\n",
    "print(report)"
   ]
  },
  {
   "cell_type": "code",
   "execution_count": 10,
   "metadata": {},
   "outputs": [],
   "source": [
    "import pandas as pd \n",
    "\n",
    "#save report to excel\n",
    "report_dict = classification_report(y_true, y_pred, target_names = target_names, output_dict=True)\n",
    "df = pd.DataFrame(report_dict).transpose()\n",
    "df.to_excel(\"tail_tail.xlsx\")"
   ]
  },
  {
   "cell_type": "markdown",
   "metadata": {},
   "source": [
    "# Threshold"
   ]
  },
  {
   "cell_type": "code",
   "execution_count": null,
   "metadata": {},
   "outputs": [],
   "source": [
    "\"\"\"\n",
    "Notes: วิธีในการหาค่า threshold ที่เหมาะสม \n",
    "\n",
    "link: https://machinelearningmastery.com/threshold-moving-for-imbalanced-classification/\n",
    "\"\"\""
   ]
  },
  {
   "cell_type": "code",
   "execution_count": 11,
   "metadata": {},
   "outputs": [],
   "source": [
    "from sklearn.metrics import roc_curve, roc_auc_score\n",
    "\n",
    "def get_fpr_tpr_auc_threshold_for_class(y,y_pred,class_n):\n",
    "    positive_class = []\n",
    "    for pred in y_pred:\n",
    "        positive_class.append(pred[class_n])\n",
    "    positive_class = np.array(positive_class)\n",
    "    new_y = []\n",
    "    for i in y:\n",
    "        if(np.argmax(i) == class_n):\n",
    "            new_y.append(1)\n",
    "        else:\n",
    "            new_y.append(0)\n",
    "    y = np.array(new_y)\n",
    "    fpr, tpr, threshold = roc_curve(y, positive_class)\n",
    "    auc = roc_auc_score(y,positive_class)\n",
    "    fpr_tpr_auc_threshold = [fpr,tpr,auc,threshold]\n",
    "    return fpr_tpr_auc_threshold"
   ]
  },
  {
   "cell_type": "code",
   "execution_count": 12,
   "metadata": {},
   "outputs": [],
   "source": [
    "import matplotlib.pyplot as plt\n",
    "\n",
    "def draw_graph(fpr_tpr_auc_threshold):\n",
    "    count = 0\n",
    "    plt.plot([0,1], [0,1], linestyle='--', label='Random prediction (AUROC = 0.500)')\n",
    "    for i in fpr_tpr_auc_threshold:\n",
    "        fpr = i[0]\n",
    "        tpr = i[1]\n",
    "        auc = i[2]\n",
    "        plt.plot(fpr, tpr, linestyle='--', label='class '+str(count)+' prediction (AUROC = %0.3f)' % auc)\n",
    "        count = count + 1\n",
    "        \n",
    "    # Title\n",
    "    plt.title('ROC Plot')\n",
    "    # Axis labels\n",
    "    plt.xlabel('False Positive Rate')\n",
    "    plt.ylabel('True Positive Rate')\n",
    "    # Show legend\n",
    "    plt.legend() # \n",
    "    # Show plot\n",
    "    plt.show()"
   ]
  },
  {
   "cell_type": "code",
   "execution_count": 13,
   "metadata": {},
   "outputs": [],
   "source": [
    "fpr_tpr_auc_threshold = []\n",
    "for i in range(14): #predict 14 class\n",
    "    fpr_tpr_auc_threshold.append(get_fpr_tpr_auc_threshold_for_class(y_test,prob,i))"
   ]
  },
  {
   "cell_type": "code",
   "execution_count": 14,
   "metadata": {},
   "outputs": [
    {
     "data": {
      "image/png": "[encoded data removed]",
      "text/plain": [
       "<Figure size 432x288 with 1 Axes>"
      ]
     },
     "metadata": {
      "needs_background": "light"
     },
     "output_type": "display_data"
    }
   ],
   "source": [
    "draw_graph(fpr_tpr_auc_threshold)"
   ]
  },
  {
   "cell_type": "code",
   "execution_count": 15,
   "metadata": {},
   "outputs": [],
   "source": [
    "import math\n",
    "\n",
    "count = 0\n",
    "best_threshold = []\n",
    "for i in fpr_tpr_auc_threshold:\n",
    "    max = 0\n",
    "    bt = 0\n",
    "    for n in range(len(i[0])):\n",
    "        if(math.sqrt(i[1][n] * (1-i[0][n])) > max): #i[1][n] - i[0][n]\n",
    "            max = math.sqrt(i[1][n] * (1-i[0][n]))\n",
    "            bt = i[3][n]\n",
    "    best_threshold.append(bt)\n",
    "    #next round\n",
    "    bt = 0\n",
    "    max = 0\n",
    "    count = count + 1"
   ]
  },
  {
   "cell_type": "code",
   "execution_count": 16,
   "metadata": {},
   "outputs": [
    {
     "name": "stdout",
     "output_type": "stream",
     "text": [
      "[0.28880477, 0.118895166, 0.3373567, 0.49555275, 0.03145171, 0.09121548, 0.19903487, 0.5067695, 0.16293563, 0.5732368, 0.5503075, 0.3024259, 0.09656057, 0.15812589]\n"
     ]
    }
   ],
   "source": [
    "print(best_threshold)"
   ]
  },
  {
   "cell_type": "code",
   "execution_count": null,
   "metadata": {},
   "outputs": [],
   "source": []
  }
 ],
 "metadata": {
  "kernelspec": {
   "display_name": "Python 3",
   "language": "python",
   "name": "python3"
  },
  "language_info": {
   "codemirror_mode": {
    "name": "ipython",
    "version": 3
   },
   "file_extension": ".py",
   "mimetype": "text/x-python",
   "name": "python",
   "nbconvert_exporter": "python",
   "pygments_lexer": "ipython3",
   "version": "3.7.6"
  }
 },
 "nbformat": 4,
 "nbformat_minor": 4
}
