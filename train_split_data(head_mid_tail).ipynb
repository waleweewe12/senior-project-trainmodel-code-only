{
 "cells": [
  {
   "cell_type": "code",
   "execution_count": 1,
   "metadata": {},
   "outputs": [],
   "source": [
    "from PIL import Image, ImageOps\n",
    "import matplotlib.pyplot as plt\n",
    "import os\n",
    "import numpy as np\n",
    "import tensorflow as tf"
   ]
  },
  {
   "cell_type": "code",
   "execution_count": 2,
   "metadata": {},
   "outputs": [],
   "source": [
    "def load_images_from_folder(folders):\n",
    "    class_images = []\n",
    "    for folder in folders:\n",
    "        images = []\n",
    "        for filename in os.listdir(folder):\n",
    "            img = Image.open(os.path.join(folder,filename))\n",
    "            if img is not None:\n",
    "                img = img.resize((299, 299))\n",
    "                img_flip = ImageOps.flip(img)\n",
    "                all_img = [img, img_flip]\n",
    "                for i in all_img:\n",
    "                    for r in [0, 90, 180, 270]:\n",
    "                        images.append(np.array(i.rotate(r)))\n",
    "        class_images.append(images)\n",
    "    \n",
    "    return class_images.copy()"
   ]
  },
  {
   "cell_type": "code",
   "execution_count": 3,
   "metadata": {},
   "outputs": [],
   "source": [
    "def defined_input(class_images):\n",
    "    features = []\n",
    "    for images in class_images:\n",
    "        for img in images:\n",
    "            features.append(img)\n",
    "    features = np.array(features)\n",
    "    features = tf.keras.applications.inception_v3.preprocess_input(features, data_format=None)\n",
    "    return features"
   ]
  },
  {
   "cell_type": "code",
   "execution_count": 4,
   "metadata": {},
   "outputs": [],
   "source": [
    "#เตรียม output\n",
    "def defined_output(class_images):\n",
    "    label = []\n",
    "    for count, images in enumerate(class_images):\n",
    "        for i in range(len(images)):\n",
    "            classes = len(class_images)\n",
    "            output = np.zeros((classes,), dtype=int)\n",
    "            output[count] = 1\n",
    "            label.append(output)\n",
    "    return np.array(label)"
   ]
  },
  {
   "cell_type": "code",
   "execution_count": 5,
   "metadata": {},
   "outputs": [],
   "source": [
    "#load train_data\n",
    "foldersname = []\n",
    "for i in range(14):\n",
    "    foldersname.append('./images/Head_Mid_Tail/class' + str(i) + '/train/tail') #path_to_folder, change file path this.\n",
    "\n",
    "class_images = load_images_from_folder(foldersname)\n",
    "\n",
    "X_train = np.copy(defined_input(class_images))\n",
    "y_train = np.copy(defined_output(class_images))"
   ]
  },
  {
   "cell_type": "code",
   "execution_count": 6,
   "metadata": {},
   "outputs": [],
   "source": [
    "#load validation_data\n",
    "foldersname = []\n",
    "for i in range(14):\n",
    "    foldersname.append('./images/Head_Mid_Tail/class' + str(i) + '/validation/tail') #path_to_folder, change file path this.\n",
    "\n",
    "class_images = load_images_from_folder(foldersname)\n",
    "\n",
    "X_validation = np.copy(defined_input(class_images))\n",
    "y_validation = np.copy(defined_output(class_images))"
   ]
  },
  {
   "cell_type": "code",
   "execution_count": 7,
   "metadata": {},
   "outputs": [],
   "source": [
    "from tensorflow.keras.models import Model\n",
    "from tensorflow.keras.layers import Dense\n",
    "from tensorflow.keras.layers import Dropout , GlobalAveragePooling2D"
   ]
  },
  {
   "cell_type": "code",
   "execution_count": 8,
   "metadata": {},
   "outputs": [],
   "source": [
    "base_model = tf.keras.applications.InceptionV3(include_top=False, weights='imagenet', input_shape=(299,299,3))\n",
    "\n",
    "base_model.trainable = False #Freeze Parameters\n",
    "\n",
    "inputs = tf.keras.Input(shape=(299, 299, 3))\n",
    "x = base_model(inputs, training=False)\n",
    "x = GlobalAveragePooling2D()(x)\n",
    "x = Dense(256, activation='relu')(x)\n",
    "x = Dropout(0.5)(x)\n",
    "x = Dense(256, activation='relu')(x)\n",
    "x = Dropout(0.5)(x)\n",
    "predictions = Dense(14, activation='softmax')(x)"
   ]
  },
  {
   "cell_type": "code",
   "execution_count": 9,
   "metadata": {},
   "outputs": [],
   "source": [
    "model = Model(inputs, predictions)"
   ]
  },
  {
   "cell_type": "code",
   "execution_count": 10,
   "metadata": {},
   "outputs": [],
   "source": [
    "base_learning_rate = 0.0001\n",
    "model.compile(optimizer=tf.keras.optimizers.Adam(lr=base_learning_rate),\n",
    "              loss=tf.keras.losses.CategoricalCrossentropy(from_logits=False),\n",
    "              metrics=['accuracy'])"
   ]
  },
  {
   "cell_type": "code",
   "execution_count": 11,
   "metadata": {},
   "outputs": [
    {
     "name": "stdout",
     "output_type": "stream",
     "text": [
      "Model: \"functional_1\"\n",
      "_________________________________________________________________\n",
      "Layer (type)                 Output Shape              Param #   \n",
      "=================================================================\n",
      "input_2 (InputLayer)         [(None, 299, 299, 3)]     0         \n",
      "_________________________________________________________________\n",
      "inception_v3 (Functional)    (None, 8, 8, 2048)        21802784  \n",
      "_________________________________________________________________\n",
      "global_average_pooling2d (Gl (None, 2048)              0         \n",
      "_________________________________________________________________\n",
      "dense (Dense)                (None, 256)               524544    \n",
      "_________________________________________________________________\n",
      "dropout (Dropout)            (None, 256)               0         \n",
      "_________________________________________________________________\n",
      "dense_1 (Dense)              (None, 256)               65792     \n",
      "_________________________________________________________________\n",
      "dropout_1 (Dropout)          (None, 256)               0         \n",
      "_________________________________________________________________\n",
      "dense_2 (Dense)              (None, 14)                3598      \n",
      "=================================================================\n",
      "Total params: 22,396,718\n",
      "Trainable params: 593,934\n",
      "Non-trainable params: 21,802,784\n",
      "_________________________________________________________________\n"
     ]
    }
   ],
   "source": [
    "model.summary()"
   ]
  },
  {
   "cell_type": "code",
   "execution_count": 12,
   "metadata": {},
   "outputs": [
    {
     "name": "stdout",
     "output_type": "stream",
     "text": [
      "Epoch 1/10\n",
      "57/57 [==============================] - 112s 2s/step - loss: 2.5256 - accuracy: 0.1718 - val_loss: 2.2375 - val_accuracy: 0.3750\n",
      "Epoch 2/10\n",
      "57/57 [==============================] - 113s 2s/step - loss: 2.1360 - accuracy: 0.3183 - val_loss: 1.9152 - val_accuracy: 0.5234\n",
      "Epoch 3/10\n",
      "57/57 [==============================] - 117s 2s/step - loss: 1.7579 - accuracy: 0.4455 - val_loss: 1.5796 - val_accuracy: 0.5859\n",
      "Epoch 4/10\n",
      "57/57 [==============================] - 117s 2s/step - loss: 1.4846 - accuracy: 0.5430 - val_loss: 1.3480 - val_accuracy: 0.6562\n",
      "Epoch 5/10\n",
      "57/57 [==============================] - 121s 2s/step - loss: 1.2539 - accuracy: 0.6184 - val_loss: 1.1877 - val_accuracy: 0.6562\n",
      "Epoch 6/10\n",
      "57/57 [==============================] - 117s 2s/step - loss: 1.0838 - accuracy: 0.6646 - val_loss: 1.0763 - val_accuracy: 0.6699\n",
      "Epoch 7/10\n",
      "57/57 [==============================] - 117s 2s/step - loss: 0.9599 - accuracy: 0.7032 - val_loss: 0.9959 - val_accuracy: 0.6777\n",
      "Epoch 8/10\n",
      "57/57 [==============================] - 118s 2s/step - loss: 0.8549 - accuracy: 0.7219 - val_loss: 0.9433 - val_accuracy: 0.7051\n",
      "Epoch 9/10\n",
      "57/57 [==============================] - 116s 2s/step - loss: 0.7348 - accuracy: 0.7792 - val_loss: 0.9174 - val_accuracy: 0.6934\n",
      "Epoch 10/10\n",
      "57/57 [==============================] - 117s 2s/step - loss: 0.6696 - accuracy: 0.8023 - val_loss: 0.8664 - val_accuracy: 0.7227\n"
     ]
    }
   ],
   "source": [
    "history = model.fit(X_train, y_train, batch_size = 32, epochs = 10, validation_data = (X_validation, y_validation))"
   ]
  },
  {
   "cell_type": "code",
   "execution_count": 13,
   "metadata": {},
   "outputs": [],
   "source": [
    "model.save('./model/head_mid_tail/tail_V2.h5') #path_to_save_model, change file path this."
   ]
  },
  {
   "cell_type": "code",
   "execution_count": null,
   "metadata": {},
   "outputs": [],
   "source": []
  }
 ],
 "metadata": {
  "kernelspec": {
   "display_name": "Python 3",
   "language": "python",
   "name": "python3"
  },
  "language_info": {
   "codemirror_mode": {
    "name": "ipython",
    "version": 3
   },
   "file_extension": ".py",
   "mimetype": "text/x-python",
   "name": "python",
   "nbconvert_exporter": "python",
   "pygments_lexer": "ipython3",
   "version": "3.7.6"
  }
 },
 "nbformat": 4,
 "nbformat_minor": 4
}
