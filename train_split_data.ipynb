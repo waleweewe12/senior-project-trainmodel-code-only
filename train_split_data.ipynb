{
 "cells": [
  {
   "cell_type": "code",
   "execution_count": 1,
   "metadata": {},
   "outputs": [],
   "source": [
    "from PIL import Image, ImageOps\n",
    "import matplotlib.pyplot as plt\n",
    "import os\n",
    "import numpy as np\n",
    "import tensorflow as tf"
   ]
  },
  {
   "cell_type": "code",
   "execution_count": 2,
   "metadata": {},
   "outputs": [],
   "source": [
    "def load_images_from_folder(folders):\n",
    "    class_images = []\n",
    "    for folder in folders:\n",
    "        images = []\n",
    "        for filename in os.listdir(folder):\n",
    "            img = Image.open(os.path.join(folder,filename))\n",
    "            if img is not None:\n",
    "                images.append(np.array(img))\n",
    "        class_images.append(images)\n",
    "    \n",
    "    return class_images.copy()"
   ]
  },
  {
   "cell_type": "code",
   "execution_count": 3,
   "metadata": {},
   "outputs": [],
   "source": [
    "def defined_input(class_images):\n",
    "    features = []\n",
    "    for images in class_images:\n",
    "        for img in images:\n",
    "            features.append(img)\n",
    "    features = np.array(features)\n",
    "    features = tf.keras.applications.inception_v3.preprocess_input(features, data_format=None)\n",
    "    return features"
   ]
  },
  {
   "cell_type": "code",
   "execution_count": 4,
   "metadata": {},
   "outputs": [],
   "source": [
    "#เตรียม output\n",
    "def defined_output(class_images):\n",
    "    label = []\n",
    "    for count, images in enumerate(class_images):\n",
    "        for i in range(len(images)):\n",
    "            classes = len(class_images)\n",
    "            output = np.zeros((classes,), dtype=int)\n",
    "            output[count] = 1\n",
    "            label.append(output)\n",
    "    return np.array(label)"
   ]
  },
  {
   "cell_type": "code",
   "execution_count": 5,
   "metadata": {},
   "outputs": [],
   "source": [
    "#train\n",
    "foldersname = []\n",
    "for i in range(14):\n",
    "    foldersname.append('./images/Tail/train/class' + str(i)) #path_to_folder, change file path this.\n",
    "\n",
    "class_images = load_images_from_folder(foldersname)\n",
    "\n",
    "X_train = np.copy(defined_input(class_images))\n",
    "y_train = np.copy(defined_output(class_images))"
   ]
  },
  {
   "cell_type": "code",
   "execution_count": 7,
   "metadata": {},
   "outputs": [],
   "source": [
    "#validation\n",
    "foldersname = []\n",
    "for i in range(14):\n",
    "    foldersname.append('./images/Tail/validation/class' + str(i)) #path_to_folder, change file path this.\n",
    "\n",
    "class_images = load_images_from_folder(foldersname)\n",
    "\n",
    "X_validation = np.copy(defined_input(class_images))\n",
    "y_validation = np.copy(defined_output(class_images))"
   ]
  },
  {
   "cell_type": "code",
   "execution_count": 8,
   "metadata": {},
   "outputs": [],
   "source": [
    "from tensorflow.keras.models import Model\n",
    "from tensorflow.keras.layers import Dense\n",
    "from tensorflow.keras.layers import Dropout , GlobalAveragePooling2D"
   ]
  },
  {
   "cell_type": "code",
   "execution_count": 9,
   "metadata": {},
   "outputs": [],
   "source": [
    "base_model = tf.keras.applications.InceptionV3(include_top=False, weights='imagenet', input_shape=(299,299,3))\n",
    "\n",
    "base_model.trainable = False #Freeze Parameters\n",
    "\n",
    "inputs = tf.keras.Input(shape=(299, 299, 3))\n",
    "x = base_model(inputs, training=False)\n",
    "x = GlobalAveragePooling2D()(x)\n",
    "x = Dense(256, activation='relu')(x)\n",
    "x = Dropout(0.5)(x)\n",
    "x = Dense(256, activation='relu')(x)\n",
    "x = Dropout(0.5)(x)\n",
    "predictions = Dense(14, activation='softmax')(x)"
   ]
  },
  {
   "cell_type": "code",
   "execution_count": 10,
   "metadata": {},
   "outputs": [],
   "source": [
    "model = Model(inputs, predictions)"
   ]
  },
  {
   "cell_type": "code",
   "execution_count": 11,
   "metadata": {},
   "outputs": [],
   "source": [
    "base_learning_rate = 0.0001\n",
    "model.compile(optimizer=tf.keras.optimizers.Adam(lr=base_learning_rate),\n",
    "              loss=tf.keras.losses.CategoricalCrossentropy(from_logits=False),\n",
    "              metrics=['accuracy'])"
   ]
  },
  {
   "cell_type": "code",
   "execution_count": 12,
   "metadata": {},
   "outputs": [
    {
     "name": "stdout",
     "output_type": "stream",
     "text": [
      "Model: \"functional_1\"\n",
      "_________________________________________________________________\n",
      "Layer (type)                 Output Shape              Param #   \n",
      "=================================================================\n",
      "input_2 (InputLayer)         [(None, 299, 299, 3)]     0         \n",
      "_________________________________________________________________\n",
      "inception_v3 (Functional)    (None, 8, 8, 2048)        21802784  \n",
      "_________________________________________________________________\n",
      "global_average_pooling2d (Gl (None, 2048)              0         \n",
      "_________________________________________________________________\n",
      "dense (Dense)                (None, 256)               524544    \n",
      "_________________________________________________________________\n",
      "dropout (Dropout)            (None, 256)               0         \n",
      "_________________________________________________________________\n",
      "dense_1 (Dense)              (None, 256)               65792     \n",
      "_________________________________________________________________\n",
      "dropout_1 (Dropout)          (None, 256)               0         \n",
      "_________________________________________________________________\n",
      "dense_2 (Dense)              (None, 14)                3598      \n",
      "=================================================================\n",
      "Total params: 22,396,718\n",
      "Trainable params: 593,934\n",
      "Non-trainable params: 21,802,784\n",
      "_________________________________________________________________\n"
     ]
    }
   ],
   "source": [
    "model.summary()"
   ]
  },
  {
   "cell_type": "code",
   "execution_count": null,
   "metadata": {},
   "outputs": [],
   "source": [
    "history = model.fit(X_train, y_train, batch_size = 32, epochs = 10, validation_data = (X_validation, y_validation))"
   ]
  },
  {
   "cell_type": "markdown",
   "metadata": {},
   "source": [
    "# Fine Tuning"
   ]
  },
  {
   "cell_type": "raw",
   "metadata": {},
   "source": [
    "NOTE: เนื่องจากการ Fine Tuning นั้น จำเป็นต้องทำการใช้ lerning_rate ที่ต่ำลงตามที่ document ของ tensorflow ได้แนะนำเอาไว้ \n",
    "ref: https://www.tensorflow.org/tutorials/images/transfer_learning  ซึ่งทำให้เครื่องคอมพิวเตอร์ที่ใช้ในการ train model ต้องประมวลผลหนักขึ้น แต่เนื่องจากประสิทธิภาพของเครื่องคอมพิวเตอร์ (notebook) ของทางผู้จัดทำมีประสิทธิภาพไม่เพียงพอ และทางผู้จัดทำได้เห็นว่าผลลัพธ์ของ model ที่ยังไม่ได้ผ่านการ fine tuning ค่อนข้างออกมาน่าพอใจในระดับนึงแล้ว จึงขอละส่วนของการทำ fine tuning นี้ไว้ด้วยข้อจำกัดทางเทคนิค โดยผู้ที่นำ code นี้ไปใช้งานหรือนำไปศึกษาต่อ สามารถ uncomment ส่วนของการ fine tuning นี้ เพื่อทำการ run code ของการ fine tuning นี้ได้ตามที่ท่านต้องการ"
   ]
  },
  {
   "cell_type": "code",
   "execution_count": null,
   "metadata": {},
   "outputs": [],
   "source": [
    "# base_model.trainable = True\n",
    "# fine_tune_at = 249\n",
    "\n",
    "# # Freeze all the layers before the `fine_tune_at` layer\n",
    "# for layer in base_model.layers[:fine_tune_at]:\n",
    "#     layer.trainable =  False"
   ]
  },
  {
   "cell_type": "code",
   "execution_count": null,
   "metadata": {},
   "outputs": [],
   "source": [
    "# model.compile(optimizer=tf.keras.optimizers.Adam(lr=base_learning_rate / 10),\n",
    "#               loss=tf.keras.losses.CategoricalCrossentropy(from_logits=False),\n",
    "#               metrics=['accuracy'])"
   ]
  },
  {
   "cell_type": "code",
   "execution_count": null,
   "metadata": {},
   "outputs": [],
   "source": [
    "# model.fit(X_train, y_train, batch_size = 32, epochs = 10, initial_epoch = history.epoch[-1], validation_data = (X_validation, y_validation))"
   ]
  },
  {
   "cell_type": "code",
   "execution_count": null,
   "metadata": {},
   "outputs": [],
   "source": [
    "#save model\n",
    "model.save('./model_latest/tail/tail_v2.h5') #path_to_save_model, change file path this."
   ]
  },
  {
   "cell_type": "code",
   "execution_count": null,
   "metadata": {},
   "outputs": [],
   "source": []
  },
  {
   "cell_type": "code",
   "execution_count": null,
   "metadata": {},
   "outputs": [],
   "source": []
  }
 ],
 "metadata": {
  "kernelspec": {
   "display_name": "Python 3",
   "language": "python",
   "name": "python3"
  },
  "language_info": {
   "codemirror_mode": {
    "name": "ipython",
    "version": 3
   },
   "file_extension": ".py",
   "mimetype": "text/x-python",
   "name": "python",
   "nbconvert_exporter": "python",
   "pygments_lexer": "ipython3",
   "version": "3.7.6"
  }
 },
 "nbformat": 4,
 "nbformat_minor": 4
}
